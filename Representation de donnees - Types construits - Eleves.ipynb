{
 "cells": [
  {
   "cell_type": "markdown",
   "metadata": {},
   "source": [
    "# Représentation de données : les types construits\n",
    "Dans ce chapitre nous allons découvrir les types dits \"construits\" en Python, à savoir les p-uplets (ou tuples), les listes et les dictionnaires.\n",
    "\n",
    "**Définition :** *Structures de données*\n",
    "\n",
    "Une structure de données est un ensemble d'éléments (appartenant aux types de base ou eux-même étant des types structurés) **organisées** de manière à faciliter l'accès et l'utilisation de leurs éléments (on parle aussi de conteneur)."
   ]
  },
  {
   "cell_type": "markdown",
   "metadata": {},
   "source": [
    "## Les p-uplets ou tuples\n",
    "\n",
    "C'est une collection **non-modifiable** d'éléments organisés par index comportant un nombre fixe d'éléments.\n",
    "\n",
    "Un tuple permet de représenter facilement un vecteur, des coordonnées.\n",
    "\n",
    "Un tuple peut être défini :\n",
    "\n",
    "- par extension, c'est-à-dire que l'interpréteur détermine que l'on définit un tuple en utilisant la syntaxe qui leur est propre, à savoir **entre parenthèses**, les éléments étant séparés par des virgules, par exemple `t = (1, 2, 3)`\n",
    "- par intention, c'est-à-dire que l'on précise le type de la variable en l'affectant en utilisant le mot clé `tuple`, par exemple `tt = tuple([4, 5, 6])` crée le tuple `(4, 5, 6)` à partir de la liste `[4, 5, 6]`."
   ]
  },
  {
   "cell_type": "code",
   "execution_count": 17,
   "metadata": {},
   "outputs": [
    {
     "name": "stdout",
     "output_type": "stream",
     "text": [
      "(1, 2, 3)\n",
      "(4, 5, 6)\n",
      "(1, 2.0, '3', True, (1, 2, 3))\n"
     ]
    }
   ],
   "source": [
    "t = (1, 2, 3) # Définition par extension\n",
    "print(t)\n",
    "tt = tuple((4,5,6)) # Définition par intention\n",
    "print(tt)\n",
    "ttt=(1,2.0,\"3\",True,(1,2,3)) # Les éléments du tuple sont de différents types\n",
    "print(ttt)"
   ]
  },
  {
   "cell_type": "markdown",
   "metadata": {},
   "source": [
    "On accède à un élément d'un tuple par son indice, attention le premier élément à pour indice $0$. En Python on peut accéder au dernier élément du tuple avec l'indice $-1$."
   ]
  },
  {
   "cell_type": "code",
   "execution_count": 18,
   "metadata": {},
   "outputs": [
    {
     "name": "stdout",
     "output_type": "stream",
     "text": [
      "1\n",
      "6\n",
      "6\n"
     ]
    }
   ],
   "source": [
    "print(t[0])\n",
    "print(tt[2])\n",
    "print(tt[-1])"
   ]
  },
  {
   "cell_type": "markdown",
   "metadata": {},
   "source": [
    "La fonction `len()` (pour length) permet de connaître le nombre d'éléments dans un tuple."
   ]
  },
  {
   "cell_type": "code",
   "execution_count": 19,
   "metadata": {},
   "outputs": [
    {
     "data": {
      "text/plain": [
       "5"
      ]
     },
     "execution_count": 19,
     "metadata": {},
     "output_type": "execute_result"
    }
   ],
   "source": [
    "len(ttt)"
   ]
  },
  {
   "cell_type": "markdown",
   "metadata": {},
   "source": [
    "### Exercice 1\n",
    "Écrire un programme qui affiche tous les éléments de `ttt` ainsi que leur type (fonction `type()`) en utilisant une boucle `for`."
   ]
  },
  {
   "cell_type": "code",
   "execution_count": null,
   "metadata": {},
   "outputs": [],
   "source": []
  },
  {
   "cell_type": "markdown",
   "metadata": {},
   "source": [
    "**Attention**"
   ]
  },
  {
   "cell_type": "code",
   "execution_count": 21,
   "metadata": {},
   "outputs": [
    {
     "ename": "TypeError",
     "evalue": "'tuple' object does not support item assignment",
     "output_type": "error",
     "traceback": [
      "\u001b[0;31m---------------------------------------------------------------------------\u001b[0m",
      "\u001b[0;31mTypeError\u001b[0m                                 Traceback (most recent call last)",
      "\u001b[0;32m<ipython-input-21-2e8774ef23e5>\u001b[0m in \u001b[0;36m<module>\u001b[0;34m\u001b[0m\n\u001b[0;32m----> 1\u001b[0;31m \u001b[0mt\u001b[0m\u001b[0;34m[\u001b[0m\u001b[0;36m1\u001b[0m\u001b[0;34m]\u001b[0m \u001b[0;34m=\u001b[0m \u001b[0;36m3\u001b[0m \u001b[0;31m# les tuples ne sont pas modifiables\u001b[0m\u001b[0;34m\u001b[0m\u001b[0;34m\u001b[0m\u001b[0m\n\u001b[0m",
      "\u001b[0;31mTypeError\u001b[0m: 'tuple' object does not support item assignment"
     ]
    }
   ],
   "source": [
    "t[1] = 3 # les tuples ne sont pas modifiables"
   ]
  },
  {
   "cell_type": "markdown",
   "metadata": {},
   "source": [
    "### Exercice 2\n",
    "\n",
    "Soit le tuple suivant : `(1,2,3,4,5,6,7,8,9,10,11,12,13,14,15)`\n",
    "\n",
    "Écrire un programme qui écrit les 5 premières valeurs puis les 5 dernières."
   ]
  },
  {
   "cell_type": "code",
   "execution_count": null,
   "metadata": {},
   "outputs": [],
   "source": []
  },
  {
   "cell_type": "markdown",
   "metadata": {},
   "source": [
    "## Les tableaux ou listes\n",
    "C'est une collection **modifiable** d'éléments organisés par index.\n",
    "\n",
    "Une liste peut être définie :\n",
    "\n",
    "- par extension, c'est-à-dire que l'interpréteur détermine que l'on définit une liste en utilisant la syntaxe qui leur est propre, à savoir **entre crochets**, les éléments étant séparés par des virgules, par exemple `l = [1, 2, 3]`\n",
    "- par intention, c'est-à-dire que l'on précise le type de la variable en l'affectant en utilisant le mot clé `list`, par exemple `ll = list()` crée la liste vide `[]`."
   ]
  },
  {
   "cell_type": "code",
   "execution_count": 23,
   "metadata": {},
   "outputs": [
    {
     "name": "stdout",
     "output_type": "stream",
     "text": [
      "[1, 2, 3]\n",
      "[]\n"
     ]
    }
   ],
   "source": [
    "l = [1,2,3] # définition par extension\n",
    "print(l)\n",
    "ll = list() # définition par intention\n",
    "print(ll)"
   ]
  },
  {
   "cell_type": "code",
   "execution_count": 24,
   "metadata": {},
   "outputs": [
    {
     "data": {
      "text/plain": [
       "1"
      ]
     },
     "execution_count": 24,
     "metadata": {},
     "output_type": "execute_result"
    }
   ],
   "source": [
    "l[0]"
   ]
  },
  {
   "cell_type": "markdown",
   "metadata": {},
   "source": [
    "### Opérations supplémentaires par rapport aux tuples\n",
    "\n",
    "Contrairement aux tuples, on peut modifier les éléments d'une liste, ajouter des éléments à la fin d'une liste, supprimer des éléments d'une liste."
   ]
  },
  {
   "cell_type": "code",
   "execution_count": 25,
   "metadata": {},
   "outputs": [
    {
     "name": "stdout",
     "output_type": "stream",
     "text": [
      "[1, 4, 3]\n"
     ]
    }
   ],
   "source": [
    "l[1] = 4 # modifie le deuxième élément de la liste\n",
    "print(l)"
   ]
  },
  {
   "cell_type": "code",
   "execution_count": 26,
   "metadata": {},
   "outputs": [
    {
     "name": "stdout",
     "output_type": "stream",
     "text": [
      "[5]\n",
      "[5, 8]\n"
     ]
    }
   ],
   "source": [
    "ll.append(5) # ajoute 5 à la fin de la liste\n",
    "print(ll)\n",
    "ll.append(8)\n",
    "print(ll)"
   ]
  },
  {
   "cell_type": "code",
   "execution_count": 27,
   "metadata": {},
   "outputs": [
    {
     "name": "stdout",
     "output_type": "stream",
     "text": [
      "[1, 3]\n"
     ]
    }
   ],
   "source": [
    "del l[1] # supprime le deuxième élément de la liste\n",
    "print(l)"
   ]
  },
  {
   "cell_type": "markdown",
   "metadata": {},
   "source": [
    "### Exercice 3\n",
    "Écrire une fonction `moyenne(n)` qui demande à l'utilisateur de rentrer `n` valeurs entières qui seront enregistrées dans une liste, puis qui renvoie la moyenne des valeurs de la liste"
   ]
  },
  {
   "cell_type": "code",
   "execution_count": null,
   "metadata": {},
   "outputs": [],
   "source": [
    "     "
   ]
  },
  {
   "cell_type": "markdown",
   "metadata": {},
   "source": [
    "### Exercice 4\n",
    "Écrire une fonction `plusproche(t,n)` qui prend en paramètres un tuple d'entiers `t` et un entier `n` et qui renvoie l'entier de `t` qui est le plus proche de `n`. S'il y a plusieurs nombres qui conviennent, peu importe lequel sera renvoyé. Par exemple, si on donne :\n",
    "\n",
    "`t = (2, 1, -5, 8, 3, -7)\n",
    "n = 5`\n",
    "\n",
    "alors la fonction devra renvoyer 3 car 3 est l'entier de `t` le plus proche de `n`(qui vaut 5). On pourra utiliser la fonction `abs()` qui renvoie la valeur absolue d'un entier relatif."
   ]
  },
  {
   "cell_type": "code",
   "execution_count": null,
   "metadata": {},
   "outputs": [],
   "source": []
  },
  {
   "cell_type": "code",
   "execution_count": 30,
   "metadata": {},
   "outputs": [],
   "source": [
    "t = (2, 1, -5, 8, 3, -7)\n",
    "assert(plusproche(t, 5) == 3)\n",
    "assert(plusproche(t, -4) == -5)\n",
    "assert(plusproche(t, 12) == 8)\n",
    "assert(plusproche(t, 2) == 2)\n",
    "assert(plusproche(t, -1) == 1)\n",
    "assert(plusproche(t, -15) == -7)"
   ]
  },
  {
   "cell_type": "markdown",
   "metadata": {},
   "source": [
    "### Exercice 5\n",
    "Écrire une fonction `differences(l)` qui prend en paramètres une liste d'entiers `l` et qui renvoie une liste `r` telle que `r[i]` soit égal à `l[i+1]-l[i]`. Par exemple, si `t = [1, 4, 2, 8, 25, 28]`, on aura en sortie `r = [3, -2, 6, 17, 3]`.\n",
    "\n",
    "Vous penserez à ajouter un jeu de test avec quelques `assert()` pour vérifier votre programme."
   ]
  },
  {
   "cell_type": "code",
   "execution_count": null,
   "metadata": {},
   "outputs": [],
   "source": []
  },
  {
   "cell_type": "code",
   "execution_count": null,
   "metadata": {},
   "outputs": [],
   "source": [
    "assert(...) # à compléter\n",
    "assert(...)\n",
    "assert(...)\n",
    "assert(...)\n",
    "assert(...)"
   ]
  },
  {
   "cell_type": "markdown",
   "metadata": {},
   "source": [
    "## Opérations transversales aux tuples et aux listes (et aux chaînes de caractères)\n",
    "Certaines fonctionnalités peuvent être utilisées de manière semblable sur plusieurs types construits si cela ne dénature pas leur fonctionnement."
   ]
  },
  {
   "cell_type": "code",
   "execution_count": 32,
   "metadata": {},
   "outputs": [],
   "source": [
    "t = (1,2,3)\n",
    "l = [1,2,3]\n",
    "st = 'Python'"
   ]
  },
  {
   "cell_type": "markdown",
   "metadata": {},
   "source": [
    "### Concaténation"
   ]
  },
  {
   "cell_type": "code",
   "execution_count": 33,
   "metadata": {},
   "outputs": [
    {
     "data": {
      "text/plain": [
       "((1, 2, 3, 1, 2, 3), [1, 2, 3, 1, 2, 3], 'PythonPython')"
      ]
     },
     "execution_count": 33,
     "metadata": {},
     "output_type": "execute_result"
    }
   ],
   "source": [
    "t+t, l+l, st+st"
   ]
  },
  {
   "cell_type": "code",
   "execution_count": 34,
   "metadata": {},
   "outputs": [
    {
     "data": {
      "text/plain": [
       "((1, 2, 3, 1, 2, 3, 1, 2, 3), [1, 2, 3, 1, 2, 3], 'PythonPythonPythonPython')"
      ]
     },
     "execution_count": 34,
     "metadata": {},
     "output_type": "execute_result"
    }
   ],
   "source": [
    "3*t, 2*l, 4*st"
   ]
  },
  {
   "cell_type": "markdown",
   "metadata": {},
   "source": [
    "### Appartenance"
   ]
  },
  {
   "cell_type": "code",
   "execution_count": 35,
   "metadata": {},
   "outputs": [
    {
     "data": {
      "text/plain": [
       "(True, True, True)"
      ]
     },
     "execution_count": 35,
     "metadata": {},
     "output_type": "execute_result"
    }
   ],
   "source": [
    "2 in t, 3 in l, 't' in st # ... est membre de ..., renvoie True ou False"
   ]
  },
  {
   "cell_type": "code",
   "execution_count": 36,
   "metadata": {},
   "outputs": [
    {
     "data": {
      "text/plain": [
       "(False, False, False)"
      ]
     },
     "execution_count": 36,
     "metadata": {},
     "output_type": "execute_result"
    }
   ],
   "source": [
    "4 in t, 5 in l, 's' in st"
   ]
  },
  {
   "cell_type": "markdown",
   "metadata": {},
   "source": [
    "### Indexation"
   ]
  },
  {
   "cell_type": "code",
   "execution_count": 37,
   "metadata": {},
   "outputs": [
    {
     "data": {
      "text/plain": [
       "(1, 1, 'P')"
      ]
     },
     "execution_count": 37,
     "metadata": {},
     "output_type": "execute_result"
    }
   ],
   "source": [
    "# Premier élément\n",
    "t[0], l[0], st[0]"
   ]
  },
  {
   "cell_type": "code",
   "execution_count": 38,
   "metadata": {},
   "outputs": [
    {
     "data": {
      "text/plain": [
       "(3, 3, 'n')"
      ]
     },
     "execution_count": 38,
     "metadata": {},
     "output_type": "execute_result"
    }
   ],
   "source": [
    "# Dernier élément\n",
    "t[-1], l[-1], st[-1]"
   ]
  },
  {
   "cell_type": "code",
   "execution_count": 39,
   "metadata": {},
   "outputs": [
    {
     "data": {
      "text/plain": [
       "((2,), [2, 3], 'tho')"
      ]
     },
     "execution_count": 39,
     "metadata": {},
     "output_type": "execute_result"
    }
   ],
   "source": [
    "#Tranche (slice)\n",
    "t[1:2], l[1:3], st[2:5] # attention, l'intervalle est fermé à gauche et ouvert à droite !"
   ]
  },
  {
   "cell_type": "code",
   "execution_count": 40,
   "metadata": {},
   "outputs": [
    {
     "data": {
      "text/plain": [
       "((2, 3), [2, 3], 'ython')"
      ]
     },
     "execution_count": 40,
     "metadata": {},
     "output_type": "execute_result"
    }
   ],
   "source": [
    "#Tout à partir de l'index 1 (inclus)\n",
    "t[1:], l[1:], st[1:]"
   ]
  },
  {
   "cell_type": "code",
   "execution_count": 41,
   "metadata": {},
   "outputs": [
    {
     "data": {
      "text/plain": [
       "((1, 2), [1, 2], 'Py')"
      ]
     },
     "execution_count": 41,
     "metadata": {},
     "output_type": "execute_result"
    }
   ],
   "source": [
    "#Tout jusqu'à l'index 2 (exclus)\n",
    "t[:2], l[:2], st[:2]"
   ]
  },
  {
   "cell_type": "code",
   "execution_count": 42,
   "metadata": {},
   "outputs": [
    {
     "data": {
      "text/plain": [
       "((1, 3), [1, 3], 'Pto')"
      ]
     },
     "execution_count": 42,
     "metadata": {},
     "output_type": "execute_result"
    }
   ],
   "source": [
    "#Un élément sur deux\n",
    "t[::2], l[::2], st[::2]"
   ]
  },
  {
   "cell_type": "markdown",
   "metadata": {},
   "source": [
    "### Exercice 6\n",
    "Inverser la chaîne `'Salut'`"
   ]
  },
  {
   "cell_type": "code",
   "execution_count": null,
   "metadata": {},
   "outputs": [],
   "source": []
  },
  {
   "cell_type": "markdown",
   "metadata": {},
   "source": [
    "### Exercice 9\n",
    "Écrire une fonction `palindrome(mot)` qui teste si `mot` est un palindrome et renvoie `True` ou `False` (pour simplifier on supposera que `mot` est écrit en minuscule et sans accents)."
   ]
  },
  {
   "cell_type": "code",
   "execution_count": null,
   "metadata": {},
   "outputs": [],
   "source": []
  },
  {
   "cell_type": "code",
   "execution_count": 45,
   "metadata": {},
   "outputs": [],
   "source": [
    "assert(palindrome('kayak')==True)\n",
    "assert(palindrome('david')==False)\n",
    "assert(palindrome('radar')==True)\n",
    "assert(palindrome('test')==False)\n",
    "assert(palindrome('ressasser')==True)"
   ]
  },
  {
   "cell_type": "markdown",
   "metadata": {},
   "source": [
    "### Taille d'une séquence"
   ]
  },
  {
   "cell_type": "code",
   "execution_count": 46,
   "metadata": {},
   "outputs": [
    {
     "data": {
      "text/plain": [
       "(3, 3, 6)"
      ]
     },
     "execution_count": 46,
     "metadata": {},
     "output_type": "execute_result"
    }
   ],
   "source": [
    "len(t), len(l), len(st)"
   ]
  },
  {
   "cell_type": "markdown",
   "metadata": {},
   "source": [
    "### Index de la première occurence d'une valeur"
   ]
  },
  {
   "cell_type": "code",
   "execution_count": 47,
   "metadata": {},
   "outputs": [
    {
     "data": {
      "text/plain": [
       "(2, 0, 4)"
      ]
     },
     "execution_count": 47,
     "metadata": {},
     "output_type": "execute_result"
    }
   ],
   "source": [
    "t.index(3), l.index(1), st.index('o')"
   ]
  },
  {
   "cell_type": "markdown",
   "metadata": {},
   "source": [
    "### Nombre d'occurence d'une valeur"
   ]
  },
  {
   "cell_type": "code",
   "execution_count": 48,
   "metadata": {},
   "outputs": [
    {
     "data": {
      "text/plain": [
       "(1, 1, 1)"
      ]
     },
     "execution_count": 48,
     "metadata": {},
     "output_type": "execute_result"
    }
   ],
   "source": [
    "t.count(2), l.count(1), st.count('n')"
   ]
  },
  {
   "cell_type": "markdown",
   "metadata": {},
   "source": [
    "### Valeur minimale"
   ]
  },
  {
   "cell_type": "code",
   "execution_count": 49,
   "metadata": {},
   "outputs": [
    {
     "data": {
      "text/plain": [
       "(1, 1, 'P')"
      ]
     },
     "execution_count": 49,
     "metadata": {},
     "output_type": "execute_result"
    }
   ],
   "source": [
    "min(t), min(l), min(st)"
   ]
  },
  {
   "cell_type": "markdown",
   "metadata": {},
   "source": [
    "### Valeur maximale"
   ]
  },
  {
   "cell_type": "code",
   "execution_count": 50,
   "metadata": {},
   "outputs": [
    {
     "data": {
      "text/plain": [
       "(3, 3, 'y')"
      ]
     },
     "execution_count": 50,
     "metadata": {},
     "output_type": "execute_result"
    }
   ],
   "source": [
    "max(t), max(l), max(st)"
   ]
  },
  {
   "cell_type": "markdown",
   "metadata": {},
   "source": [
    "### Somme des éléments (si ce sont des nombres)"
   ]
  },
  {
   "cell_type": "code",
   "execution_count": 51,
   "metadata": {},
   "outputs": [
    {
     "data": {
      "text/plain": [
       "(6, 6)"
      ]
     },
     "execution_count": 51,
     "metadata": {},
     "output_type": "execute_result"
    }
   ],
   "source": [
    "sum(t), sum(l)"
   ]
  },
  {
   "cell_type": "markdown",
   "metadata": {},
   "source": [
    "## Tableau à 2 dimensions\n",
    "On peut représenter un tableau comportant des lignes et des colonnes grâce à une liste dont les éléments sont des listes de même taille représentants les lignes du tableau."
   ]
  },
  {
   "cell_type": "code",
   "execution_count": 52,
   "metadata": {},
   "outputs": [
    {
     "name": "stdout",
     "output_type": "stream",
     "text": [
      "[[1, 2, 3], [4, 5, 6], [7, 8, 9], [10, 11, 12]]\n"
     ]
    }
   ],
   "source": [
    "tableau = [[1,2,3], [4,5,6], [7,8,9], [10,11,12]] # tableau comporte 4 lignes et 3 colonnes\n",
    "print(tableau)"
   ]
  },
  {
   "cell_type": "code",
   "execution_count": 53,
   "metadata": {},
   "outputs": [
    {
     "data": {
      "text/plain": [
       "[4, 5, 6]"
      ]
     },
     "execution_count": 53,
     "metadata": {},
     "output_type": "execute_result"
    }
   ],
   "source": [
    "# Deuxième ligne du tableau\n",
    "tableau[1]"
   ]
  },
  {
   "cell_type": "code",
   "execution_count": 54,
   "metadata": {},
   "outputs": [
    {
     "data": {
      "text/plain": [
       "3"
      ]
     },
     "execution_count": 54,
     "metadata": {},
     "output_type": "execute_result"
    }
   ],
   "source": [
    "# Valeur située à la 1ère ligne, 3ème colonne\n",
    "tableau[0][2]"
   ]
  },
  {
   "cell_type": "code",
   "execution_count": 55,
   "metadata": {},
   "outputs": [
    {
     "data": {
      "text/plain": [
       "10"
      ]
     },
     "execution_count": 55,
     "metadata": {},
     "output_type": "execute_result"
    }
   ],
   "source": [
    "# Valeur située à la 4ème ligne, 1ère colonne\n",
    "tableau[3][0]"
   ]
  },
  {
   "cell_type": "markdown",
   "metadata": {},
   "source": [
    "### Exercice 10\n",
    "Écrire un programme qui affiche tout les éléments de `tableau`"
   ]
  },
  {
   "cell_type": "code",
   "execution_count": null,
   "metadata": {},
   "outputs": [],
   "source": []
  },
  {
   "cell_type": "markdown",
   "metadata": {},
   "source": [
    "### Exercice 11\n",
    "Écrire un programme qui demande 2 entiers $X$ et $Y$ et qui génère un tableau à 2 dimensions dont les éléments situés à la i-ème ligne et la j-ième colonne valent $i*j$ (i varie de 0 à $X-1$ et j de 0 à $Y-1$).\n",
    "\n",
    "Par exemple si on donne `3,5`, le programme retourne `[[0, 0, 0, 0, 0], [0, 1, 2, 3, 4], [0, 2, 4, 6, 8]]`."
   ]
  },
  {
   "cell_type": "code",
   "execution_count": null,
   "metadata": {},
   "outputs": [],
   "source": []
  },
  {
   "cell_type": "markdown",
   "metadata": {},
   "source": [
    "## Les dictionnaires\n",
    "Les dictionnaires sont des structures dites \"associatives\" dans le sens où elles associent des \"clés\" à des \"valeurs\". La clé étant l'index permettant d'accéder à la valeur.\n",
    "\n",
    "Les dictionnaires sont des structures modifiables."
   ]
  },
  {
   "cell_type": "code",
   "execution_count": 58,
   "metadata": {},
   "outputs": [],
   "source": [
    "d = {\"A\":1, \"B\":2, \"C\":3} # définition par extension\n",
    "dd = dict() # définition par intention"
   ]
  },
  {
   "cell_type": "code",
   "execution_count": 59,
   "metadata": {},
   "outputs": [
    {
     "data": {
      "text/plain": [
       "2"
      ]
     },
     "execution_count": 59,
     "metadata": {},
     "output_type": "execute_result"
    }
   ],
   "source": [
    "d[\"B\"] # la clé permet d'accéder à la valeur"
   ]
  },
  {
   "cell_type": "code",
   "execution_count": 60,
   "metadata": {},
   "outputs": [
    {
     "data": {
      "text/plain": [
       "{'A': 1, 'B': 2, 'C': 5}"
      ]
     },
     "execution_count": 60,
     "metadata": {},
     "output_type": "execute_result"
    }
   ],
   "source": [
    "d[\"C\"] = 5 # modification d'une valeur\n",
    "d"
   ]
  },
  {
   "cell_type": "code",
   "execution_count": 61,
   "metadata": {},
   "outputs": [
    {
     "data": {
      "text/plain": [
       "{'B': 2, 'C': 5}"
      ]
     },
     "execution_count": 61,
     "metadata": {},
     "output_type": "execute_result"
    }
   ],
   "source": [
    "del d[\"A\"] # suppression d'une valeur\n",
    "d"
   ]
  },
  {
   "cell_type": "code",
   "execution_count": 62,
   "metadata": {},
   "outputs": [
    {
     "data": {
      "text/plain": [
       "dict_keys(['B', 'C'])"
      ]
     },
     "execution_count": 62,
     "metadata": {},
     "output_type": "execute_result"
    }
   ],
   "source": [
    "d.keys() # liste des clés"
   ]
  },
  {
   "cell_type": "code",
   "execution_count": 63,
   "metadata": {},
   "outputs": [
    {
     "data": {
      "text/plain": [
       "dict_values([2, 5])"
      ]
     },
     "execution_count": 63,
     "metadata": {},
     "output_type": "execute_result"
    }
   ],
   "source": [
    "d.values() # liste des valeurs"
   ]
  },
  {
   "cell_type": "code",
   "execution_count": 64,
   "metadata": {},
   "outputs": [
    {
     "data": {
      "text/plain": [
       "dict_items([('B', 2), ('C', 5)])"
      ]
     },
     "execution_count": 64,
     "metadata": {},
     "output_type": "execute_result"
    }
   ],
   "source": [
    "d.items() # liste des couples (clé, valeur)"
   ]
  },
  {
   "cell_type": "markdown",
   "metadata": {},
   "source": [
    "## Compréhension de liste/dictionnaire\n",
    "On a vu comment créer des listes, des dictionnaires ou des ensembles par extension ou par intention. On a également vu comment utiliser des boucles et des structures de contrôle.\n",
    "\n",
    "Python permet de combiner ces 2 fonctionnalités en créant des structures complexes à partir d'autres structures ou d'itérateurs. C'est ce qu'on appelle des \"compréhensions\"."
   ]
  },
  {
   "cell_type": "markdown",
   "metadata": {},
   "source": [
    "### Compréhension de liste"
   ]
  },
  {
   "cell_type": "code",
   "execution_count": 65,
   "metadata": {},
   "outputs": [
    {
     "data": {
      "text/plain": [
       "[25, 16, 9, 4, 1, 0, 1, 4, 9, 16]"
      ]
     },
     "execution_count": 65,
     "metadata": {},
     "output_type": "execute_result"
    }
   ],
   "source": [
    "liste=[x**2 for x in range(-5,5)] # Compréhension de liste avec itérateur\n",
    "liste"
   ]
  },
  {
   "cell_type": "code",
   "execution_count": 66,
   "metadata": {},
   "outputs": [
    {
     "data": {
      "text/plain": [
       "[12.5, 8.0, 4.5, 2.0, 0.5, 0.5, 2.0, 4.5, 8.0]"
      ]
     },
     "execution_count": 66,
     "metadata": {},
     "output_type": "execute_result"
    }
   ],
   "source": [
    "[x/2 for x in liste if x!=0] # Compréhension de liste avec condition"
   ]
  },
  {
   "cell_type": "markdown",
   "metadata": {},
   "source": [
    "On peut aussi chaîner les boucles."
   ]
  },
  {
   "cell_type": "code",
   "execution_count": 67,
   "metadata": {},
   "outputs": [
    {
     "data": {
      "text/plain": [
       "['0A', '0B', '0C', '1A', '1B', '1C', '2A', '2B', '2C']"
      ]
     },
     "execution_count": 67,
     "metadata": {},
     "output_type": "execute_result"
    }
   ],
   "source": [
    "[str(x)+y for x in range(3) for y in ['A','B','C']]"
   ]
  },
  {
   "cell_type": "markdown",
   "metadata": {},
   "source": [
    "### Compréhension de dictionnaire\n",
    "On manipule de manière indépendante la clé et la valeur."
   ]
  },
  {
   "cell_type": "code",
   "execution_count": 68,
   "metadata": {},
   "outputs": [
    {
     "data": {
      "text/plain": [
       "{'Carré de 0': 0,\n",
       " 'Carré de 1': 1,\n",
       " 'Carré de 2': 4,\n",
       " 'Carré de 3': 9,\n",
       " 'Carré de 4': 16}"
      ]
     },
     "execution_count": 68,
     "metadata": {},
     "output_type": "execute_result"
    }
   ],
   "source": [
    "{\"Carré de \"+str(x):x**2 for x in range(5)}"
   ]
  },
  {
   "cell_type": "markdown",
   "metadata": {},
   "source": [
    "## Quelques exercices supplémentaires pour les plus rapides"
   ]
  },
  {
   "cell_type": "markdown",
   "metadata": {},
   "source": [
    "### Uniques\n",
    "\n",
    "Donnez une fonction qui indique si, dans une liste donnée, chaque valeur est unique ou pas. Par exemple, dans le cas de la liste `[1, 5, 2, 6, 3, 5]`, la réponse doit être `non`. Au contraire dans le cas de la liste `[1, 5, 2, 6, 3, 8]`, le réponse doit être `oui`."
   ]
  },
  {
   "cell_type": "code",
   "execution_count": null,
   "metadata": {},
   "outputs": [],
   "source": []
  },
  {
   "cell_type": "markdown",
   "metadata": {},
   "source": [
    "### Sous liste\n",
    "\n",
    "Étant donné une liste `l` qui ne contient que des nombres, par exemple : `[1, 3, 2, 3, 2, 11, 9, 2, 7, 6, 9, 8, 4, 2, 7]` et une seconde liste `m` ne contenant aussi que des nombres, par exemple : `[1, 2, 7, 9, 2]` on dit que la liste `m` est un sous liste de `l` si en sélectionnant uniquement certaines cases de `l` (mais en n’en changeant pas l’ordre), on obtient une nouvelle liste qui est identique à `m`.\n",
    "Dans l’exemple qui précède, `m` est effectivement une sous liste de `l` (en prenant les cases 0, 4, 8, 10 et 13).\n",
    "En revanche, `[1, 7, 2, 9]` n'est pas une sous liste de `l`.\n",
    "Écrivez une fonction qui prend deux listes `l` et `m` en paramètres et indique si `m` est une sous liste de `l`."
   ]
  },
  {
   "cell_type": "code",
   "execution_count": null,
   "metadata": {},
   "outputs": [],
   "source": []
  },
  {
   "cell_type": "markdown",
   "metadata": {},
   "source": [
    "### Arithmancie\n",
    "\n",
    "Écrivez une fonction qui associe un nombre à un mot. Le nombre associé à un mot est la somme des nombres associés à chacune des lettres du mot. Le nombre associé à A est 1, le nombre associé à B est 2 et le nombre associé à Z est 26. Aide : voir la fonction `ord`"
   ]
  },
  {
   "cell_type": "code",
   "execution_count": null,
   "metadata": {},
   "outputs": [],
   "source": []
  },
  {
   "cell_type": "markdown",
   "metadata": {},
   "source": [
    "### Constante de Champernowne\n",
    "\n",
    "La [constante de Champernowne](https://fr.wikipedia.org/wiki/Constante_de_Champernowne) vaut : 0,1234567891011121314151617181920.... Quel est son 2019e chiffre après la virgule (le premier est un 1) ?"
   ]
  },
  {
   "cell_type": "code",
   "execution_count": null,
   "metadata": {},
   "outputs": [],
   "source": []
  }
 ],
 "metadata": {
  "kernelspec": {
   "display_name": "Python 3",
   "language": "python",
   "name": "python3"
  },
  "language_info": {
   "codemirror_mode": {
    "name": "ipython",
    "version": 3
   },
   "file_extension": ".py",
   "mimetype": "text/x-python",
   "name": "python",
   "nbconvert_exporter": "python",
   "pygments_lexer": "ipython3",
   "version": "3.7.3"
  }
 },
 "nbformat": 4,
 "nbformat_minor": 2
}
