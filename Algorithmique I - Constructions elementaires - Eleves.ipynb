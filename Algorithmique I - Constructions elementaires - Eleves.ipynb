{
 "cells": [
  {
   "cell_type": "markdown",
   "metadata": {},
   "source": [
    "# Algorithmique I - Les constructions élémentaires\n",
    "\n",
    "Dans ce chapitre nous allons revoir les différentes structures élémentaires d'un algorithme et leur traduction en langage Python."
   ]
  },
  {
   "cell_type": "code",
   "execution_count": 5,
   "metadata": {},
   "outputs": [
    {
     "data": {
      "text/html": [
       "<script>\n",
       "function toggle_hint()  {\n",
       "    $(\"button.hint\").text($('div.hint').is(\":visible\") ? \"afficher indice\" : \"cacher indice\");\n",
       "    $('div.hint').toggle();\n",
       "}\n",
       "\n",
       "$(document).ready(function() {\n",
       "    $(\"div.hint\").hide();\n",
       "    $(document).on(\"click\", \"button.hint\", toggle_hint);\n",
       "});\n",
       "</script>"
      ],
      "text/plain": [
       "<IPython.core.display.HTML object>"
      ]
     },
     "execution_count": 5,
     "metadata": {},
     "output_type": "execute_result"
    }
   ],
   "source": [
    "# Ceci est un script à éxécuter de façon à rendre actifs les boutons Indice dans les exercices\n",
    "\n",
    "from IPython.display import HTML\n",
    "\n",
    "HTML('''<script>\n",
    "function toggle_hint()  {\n",
    "    $(\"button.hint\").text($('div.hint').is(\":visible\") ? \"afficher indice\" : \"cacher indice\");\n",
    "    $('div.hint').toggle();\n",
    "}\n",
    "\n",
    "$(document).ready(function() {\n",
    "    $(\"div.hint\").hide();\n",
    "    $(document).on(\"click\", \"button.hint\", toggle_hint);\n",
    "});\n",
    "</script>''')"
   ]
  },
  {
   "cell_type": "markdown",
   "metadata": {},
   "source": [
    "## Rappel\n",
    "\n",
    "Un algorithme est une suite d'instructions élémentaires permettant de réaliser automatiquement une tâche prédéfinie.\n",
    "En général un algorithme se compose de 3 parties :\n",
    "\n",
    "* les entrées et l'initialisation des variables (les données)\n",
    "* le traitement (l'exécution de la tâche)\n",
    "* la sortie (l'affichage du résultat)\n",
    "\n",
    "Par exemple l'algorithme qui calcule la moyenne de deux nombres :\n",
    "\n",
    "`Entrées :\n",
    "    Entrer la valeur de a\n",
    "    Entrer la valeur de b\n",
    "Traitement :\n",
    "    moyenne=(a+b)/2\n",
    "Sortie :\n",
    "    Afficher la valeur de moyenne`"
   ]
  },
  {
   "cell_type": "markdown",
   "metadata": {},
   "source": [
    "## L'affectation d'une variable\n",
    "En Python l'affectation d'une variable se fait avec le symbole `=`.\n",
    "\n",
    "**Attention :** en Python le typage des variables est fait dynamiquement, cela signifie que l'interpéteur Python détermine le type de la variable en fonction de ce qu'on lui affecte."
   ]
  },
  {
   "cell_type": "code",
   "execution_count": 24,
   "metadata": {},
   "outputs": [
    {
     "name": "stdout",
     "output_type": "stream",
     "text": [
      "2 3.14 Bonjour [1, 3, -5]\n"
     ]
    }
   ],
   "source": [
    "a = 2 # a est un entier (int)\n",
    "b = 3.14 # b est un flottant (float)\n",
    "c = 'Bonjour' # c est une chaîne de caractères (string)\n",
    "d = [1, 3, -5] # d est une liste (list)\n",
    "\n",
    "print(a, b, c, d) # affiche la valeur de a, b, c et d"
   ]
  },
  {
   "cell_type": "markdown",
   "metadata": {},
   "source": [
    "Pour permettre à l'utilisateur d'entrer une valeur on utilisera la commande `input()` pour laquelle on précisera éventuellement le type, en effet une variable affectée avec `input()` est considérée par défaut  comme une chaîne de caractères."
   ]
  },
  {
   "cell_type": "code",
   "execution_count": 25,
   "metadata": {},
   "outputs": [
    {
     "name": "stdout",
     "output_type": "stream",
     "text": [
      "bonjour\n",
      "Entrer la valeur de f : tout le monde\n",
      "Entrer un entier g : 5\n",
      "Entrer un nombre réel h : 3.14\n",
      "bonjour tout le monde 5 3.14\n"
     ]
    }
   ],
   "source": [
    "e = input() # e est affectée avec la chaîne de caractères entrée par l'utilisateur\n",
    "f = input('Entrer la valeur de f : ') # même chose mais un message s'affiche à destination de l'utilisateur\n",
    "g = int(input('Entrer un entier g : ')) # g est affectée avec un entier\n",
    "h = float(input('Entrer un nombre réel h : ')) # h est affectée avec un flottant\n",
    "\n",
    "print(e, f, g, h)"
   ]
  },
  {
   "cell_type": "markdown",
   "metadata": {},
   "source": [
    "### Exercice 1 :\n",
    "Traduire en langage Python l'algorithme, donné plus haut, calculant la moyenne de deux nombres réels."
   ]
  },
  {
   "cell_type": "code",
   "execution_count": null,
   "metadata": {},
   "outputs": [],
   "source": []
  },
  {
   "cell_type": "markdown",
   "metadata": {},
   "source": [
    "### Exercice 2 :\n",
    "Écrire un algorithme en pseudo-code (langage naturel) qui prend deux entiers a et b en entrée et qui échange les valeurs de a et b.\n",
    "\n",
    "<button class='hint'>afficher indice</button>\n",
    "<div class=\"hint\" style=\"display: none\">on pourra éventuellement utiliser une troisième variable</div>"
   ]
  },
  {
   "cell_type": "markdown",
   "metadata": {},
   "source": [
    "**Réponse :**\n"
   ]
  },
  {
   "cell_type": "markdown",
   "metadata": {},
   "source": [
    "Traduire votre algorithme en langage Python et le tester"
   ]
  },
  {
   "cell_type": "code",
   "execution_count": null,
   "metadata": {},
   "outputs": [],
   "source": []
  },
  {
   "cell_type": "markdown",
   "metadata": {},
   "source": [
    "## Les instructions conditionnelles\n",
    "On peut faire en sorte que certaines parties de l'algorithme ne s'éxecutent que dans certains cas en utilisant la structure suivante :\n",
    "\n",
    "`Si condition alors\n",
    "    action\n",
    "Sinon\n",
    "    action\n",
    "FinSi`\n",
    "\n",
    "Un exemple en Python qui calcule la valeur absolue d'un nombre :"
   ]
  },
  {
   "cell_type": "code",
   "execution_count": 1,
   "metadata": {},
   "outputs": [
    {
     "name": "stdout",
     "output_type": "stream",
     "text": [
      "-5\n",
      "5\n"
     ]
    }
   ],
   "source": [
    "a = int(input())\n",
    "\n",
    "if a>= 0:\n",
    "    val = a\n",
    "else:\n",
    "    val = -a\n",
    "    \n",
    "print(val)"
   ]
  },
  {
   "cell_type": "markdown",
   "metadata": {},
   "source": [
    "Dans les instructions conditionnelles on mettra toujours des prédicats. L'interpréteur teste si le prédicat est vrai (`True`) ou s'il est faux (`False`) la suite des instructions qui s'éxecutent si le prédicat est vrai doit être indentée (c.à.d. écrite avec un retrait d'un tabulation).\n",
    "\n",
    "Pour les instructions conditionnelles on utilisera, entre autres, les symboles suivants :\n",
    "* pour tester si $a = b$ on écrit `a==b`\n",
    "* pour tester si $a \\neq b$ on écrit `a!=b`\n",
    "* pour tester si $a < b$ on écrit `a<b`\n",
    "* pour tester si $a \\leqslant b$ on écrit `a<=b`"
   ]
  },
  {
   "cell_type": "markdown",
   "metadata": {},
   "source": [
    "### Exercice 3 :\n",
    "Écrire un algorithme qui permette de calculer l'image de $x$ par la fonction $f$ définie sur $\\mathbb R$ par :\n",
    "\n",
    "$f(x)=3x+5$ si $x\\in [-\\infty ; 3[$ et par $f(x)= 2x^2 - 4$ si $x\\in [3 ; +\\infty [$"
   ]
  },
  {
   "cell_type": "code",
   "execution_count": null,
   "metadata": {},
   "outputs": [],
   "source": []
  },
  {
   "cell_type": "markdown",
   "metadata": {},
   "source": [
    "### Exercice 4 :\n",
    "Écrire un algorithme qui demande à l'utilisateur de deviner un nombre entier choisi aléatoirement entre 1 et 10 et qui affiche 'Gagné' ou 'Perdu' suivant que l'utilisateur a donné une bonne ou une mauvaise réponse.\n",
    "\n",
    "**Indication :** on utilisera la fonction `randint()` importée de la bibliothèque `random`"
   ]
  },
  {
   "cell_type": "code",
   "execution_count": null,
   "metadata": {},
   "outputs": [],
   "source": []
  },
  {
   "cell_type": "markdown",
   "metadata": {},
   "source": [
    "## Les boucles\n",
    "Une boucle permet d'éxécuter plusieurs fois de suite les mêmes instructions, il existe deux types de boucles :\n",
    "* les boucles bornées : on sait à l'avance combien de fois les instructions vont s'éxécuter, dans ce cas on utilise la boucle **pour** (for)\n",
    "* les boucles non bornées : on ne sait combien de fois les instructions vont s'éxécuter, dans ce cas on utilise la boucle **tant que** (while)\n",
    "\n",
    "### La boucle pour\n",
    "La boucle pour s'écrit de la manière suivante en pseudo-code :\n",
    "\n",
    "`Pour i allant de a à b par pas de n\n",
    "    suite d'instructions à éxécuter\n",
    "FinPour`\n",
    "\n",
    "Par exemple si on veut calculer la somme S des entiers de 1 à 10 :\n",
    "\n",
    "`S=0\n",
    "Pour i allant de 1 à 10 par pas de 1\n",
    "    S = S + i\n",
    "FinPour\n",
    "Afficher S`\n",
    "\n",
    "**Remarques :**\n",
    "* si le pas est égal à 1, il n'est pas nécessaire de le préciser\n",
    "* en Python, la syntaxe de la boucle pour est : `for i in range(start, stop, step):`. Les valeurs `start` et `step` sont optionnelles et **attention** `i` prend toutes les valeurs de `start` à `stop - 1` !!!"
   ]
  },
  {
   "cell_type": "code",
   "execution_count": 34,
   "metadata": {},
   "outputs": [
    {
     "name": "stdout",
     "output_type": "stream",
     "text": [
      "55\n"
     ]
    }
   ],
   "source": [
    "S = 0\n",
    "for i in range(1,11): # i prend toutes les valeurs entières de 1 à 10. Ici step n'est pas précisé et vaut donc 1.\n",
    "    S = S+i\n",
    "print(S)"
   ]
  },
  {
   "cell_type": "markdown",
   "metadata": {},
   "source": [
    "### Exercice 5 :\n",
    "Écrire un algorithme qui calcule la somme des entiers de 1 à 100 avec une boucle pour."
   ]
  },
  {
   "cell_type": "code",
   "execution_count": null,
   "metadata": {},
   "outputs": [],
   "source": []
  },
  {
   "cell_type": "markdown",
   "metadata": {},
   "source": [
    "### Exercice 6 :\n",
    "Écrire un algorithme qui calcule la somme des 100 premiers entiers naturels pairs avec une boucle pour.\n",
    "\n",
    "<button class='hint'>afficher indice</button>\n",
    "<div class=\"hint\" style=\"display: none\">attention les 100 premiers entiers naturels pairs vont de 0 à 198 !</div>"
   ]
  },
  {
   "cell_type": "code",
   "execution_count": null,
   "metadata": {},
   "outputs": [],
   "source": []
  },
  {
   "cell_type": "markdown",
   "metadata": {},
   "source": [
    "### La boucle tant que\n",
    "La boucle tant que s'écrit de la manière suivante en pseudo-code :\n",
    "\n",
    "`Tant que condition est vraie\n",
    "    suite d'instructions à éxécuter\n",
    "FinTantque`\n",
    "\n",
    "Par exemple si on veut calculer la somme S des entiers de 1 à 10 :\n",
    "\n",
    "`S=0\n",
    "i=1\n",
    "Tant que i<=10\n",
    "    S = S + i\n",
    "    i = i + 1\n",
    "FinTantque\n",
    "Afficher S`\n",
    "\n",
    "**Remarques :**\n",
    "* si la condition est mal écrite on peut se trouver dans le cas d'une boucle infinie !\n",
    "* en Python, la syntaxe de la boucle tant est : `while predicat:`."
   ]
  },
  {
   "cell_type": "code",
   "execution_count": 37,
   "metadata": {},
   "outputs": [
    {
     "name": "stdout",
     "output_type": "stream",
     "text": [
      "55\n"
     ]
    }
   ],
   "source": [
    "S = 0\n",
    "i = 1\n",
    "while i <= 10:\n",
    "    S = S+i\n",
    "    i = i+1 # ici on pourrait aussi écrire i+=1\n",
    "print(S)"
   ]
  },
  {
   "cell_type": "markdown",
   "metadata": {},
   "source": [
    "### Exercice 7 :\n",
    "Reprendre les exercices 5 et 6 mais avec une boucle tant que"
   ]
  },
  {
   "cell_type": "code",
   "execution_count": null,
   "metadata": {},
   "outputs": [],
   "source": []
  },
  {
   "cell_type": "code",
   "execution_count": null,
   "metadata": {},
   "outputs": [],
   "source": []
  },
  {
   "cell_type": "markdown",
   "metadata": {},
   "source": [
    "## Les fonctions\n",
    "En algorithmique comme en Python on écrira le plus des fonctions auxquelles on fera ensuite appel en leur passant éventuellement des paramètres. L'intérêt de cela est qu'on pourra appeler plusieurs fois la même fonction dans l'éxécution d'un algorithme sans avoir à redéfinir la même suite d'instructions plusieurs fois.\n",
    "\n",
    "Par exemple avec le calcul de la moyenne de 2 nombres :\n",
    "\n",
    "`fonction moyenne(a, b)\n",
    "    moy = (a+b)/2\n",
    "    renvoyer moy`\n",
    "\n",
    "Pour calculer la moyenne de $2,5$ et de $6.18$ on tapera la commande `moyenne(2.5, 6.18)`.\n",
    "\n",
    "En Python on écrira :"
   ]
  },
  {
   "cell_type": "code",
   "execution_count": 40,
   "metadata": {},
   "outputs": [],
   "source": [
    "def moyenne(a, b):\n",
    "    moy = (a+b)/2\n",
    "    return moy"
   ]
  },
  {
   "cell_type": "markdown",
   "metadata": {},
   "source": [
    "Et on l'appelle :"
   ]
  },
  {
   "cell_type": "code",
   "execution_count": 41,
   "metadata": {},
   "outputs": [
    {
     "data": {
      "text/plain": [
       "4.34"
      ]
     },
     "execution_count": 41,
     "metadata": {},
     "output_type": "execute_result"
    }
   ],
   "source": [
    "moyenne(2.5, 6.18)"
   ]
  },
  {
   "cell_type": "markdown",
   "metadata": {},
   "source": [
    "### Exercice 8 :\n",
    "Écrire une fonction `somme` qui calcule la somme des entiers de `a` à `b` et faire quelques tests pour vérifier qu'elle fonctionne."
   ]
  },
  {
   "cell_type": "code",
   "execution_count": null,
   "metadata": {},
   "outputs": [],
   "source": []
  },
  {
   "cell_type": "markdown",
   "metadata": {},
   "source": [
    "**Remarque :** vous utilisez déjà des fonctions quand vous écrivez `int()`ou `print()`, ces fonctions sont définies par défaut dans le langage."
   ]
  },
  {
   "cell_type": "markdown",
   "metadata": {},
   "source": [
    "## Exercices de synthèse\n",
    "### Exercice 9 :\n",
    "À quelle question répond la fonction `mystere` ?"
   ]
  },
  {
   "cell_type": "code",
   "execution_count": null,
   "metadata": {},
   "outputs": [],
   "source": [
    "def mystere(m, n):\n",
    "    p = m\n",
    "    while p >= n:\n",
    "        p = p-n\n",
    "    if p == 0:\n",
    "        reponse = 'Oui'\n",
    "    else:\n",
    "        reponse = 'Non'\n",
    "    return reponse"
   ]
  },
  {
   "cell_type": "markdown",
   "metadata": {},
   "source": [
    "**Réponse :**"
   ]
  },
  {
   "cell_type": "markdown",
   "metadata": {},
   "source": [
    "### Exercice 10 :\n",
    "Michel Strogonoff partit à l'aventure, sans un sou en poche, à travers les étendues infinies de la Sibérie.\n",
    "Las, à peine avit-il parcouru une verste (unité de longueur utilisée dans la Russie des Tsars) qu'il rencontra un ermite qui lui dit :\n",
    "\n",
    "\"Donne-moi un rouble, ou tu t'en repentiras.\n",
    "\n",
    "Mais je suis trop pauvre, je ne peux pas te donner un rouble.\n",
    "\n",
    "Puisque c'est comme ça, répliqua l'ermite, c'est moi qui vais te donner un rouble ! Tiens !\"\n",
    "\n",
    "Michel Strogonoff reprit sa route, avec un rouble dans la poche.\n",
    "Une verste plus loin, nouvel ermite, même tableau :\n",
    "\n",
    "\"Donne-moi deux roubles, ou tu t'en repentiras.\n",
    "\n",
    "Mais je suis trop pauvre, je ne peux pas te donner deux roubles.\n",
    "\n",
    "Puisque c'est comme ça, répliqua l'ermite, c'est moi qui vais te donner deux roubles ! Tiens !\"\n",
    "\n",
    "Michel Strogonoff reprit sa route, avec maintenant trois roubles dans la poche.\n",
    "Et, à la fin de la troisième verste, ça recommence avec un troisième ermite :\n",
    "\n",
    "\"Donne-moi trois roubles, ou tu t'en repentiras.\n",
    "\n",
    "Tiens mon pauvre ermite, je me réjouis de pouvoir soulager ta misère.\"\n",
    "\n",
    "Et Michel Strogonoff lui donna ses trois roubles et reprit sa rouble, la bourse vide.\n",
    "Et ça continue comme ça, à la fin de la $n$-ième verste, un ermite lui demande $n$ roubles. Si Michel Strogonoff les possède, il les lui donne, sinon c'est l'ermite qui lui donne $n$ roubles."
   ]
  },
  {
   "cell_type": "markdown",
   "metadata": {},
   "source": [
    "De combien de roubles Michel Strogonoff dispose-t-il après avoir quitté le dixième ermite ?"
   ]
  },
  {
   "cell_type": "markdown",
   "metadata": {},
   "source": [
    "**Réponse :**"
   ]
  },
  {
   "cell_type": "markdown",
   "metadata": {},
   "source": [
    "Compléter la fonction `rouble` afin qu'elle retourne le nombre de roubles que Michel Strogonoff possède au bout de $p$ verstes, c'est-à-dire après avoir quitté le $p$-ième ermite."
   ]
  },
  {
   "cell_type": "code",
   "execution_count": null,
   "metadata": {},
   "outputs": [],
   "source": [
    "def rouble(p):\n",
    "    S = ...\n",
    "    for n in range(..., ...):\n",
    "        if S >= n:\n",
    "            S = ...\n",
    "        else:\n",
    "            S = ...\n",
    "    return S"
   ]
  },
  {
   "cell_type": "markdown",
   "metadata": {},
   "source": [
    "De quelle somme dispose-t-il après avoir quitté le $800$-ième ermite ?"
   ]
  },
  {
   "cell_type": "code",
   "execution_count": null,
   "metadata": {},
   "outputs": [],
   "source": []
  },
  {
   "cell_type": "markdown",
   "metadata": {},
   "source": [
    "Écrire la fonction `distance` qui retourne la distance (en verstes) que Michel Strogonoff devra parcourir pour détenir pour la première fois $R$ roubles, où $R$ est un réel strictement positif choisi."
   ]
  },
  {
   "cell_type": "code",
   "execution_count": null,
   "metadata": {},
   "outputs": [],
   "source": [
    "def distance(R):"
   ]
  },
  {
   "cell_type": "markdown",
   "metadata": {},
   "source": [
    "L'appliquer dans le cas $R=3000$."
   ]
  },
  {
   "cell_type": "code",
   "execution_count": null,
   "metadata": {},
   "outputs": [],
   "source": []
  }
 ],
 "metadata": {
  "kernelspec": {
   "display_name": "Python 3",
   "language": "python",
   "name": "python3"
  },
  "language_info": {
   "codemirror_mode": {
    "name": "ipython",
    "version": 3
   },
   "file_extension": ".py",
   "mimetype": "text/x-python",
   "name": "python",
   "nbconvert_exporter": "python",
   "pygments_lexer": "ipython3",
   "version": "3.7.3"
  }
 },
 "nbformat": 4,
 "nbformat_minor": 2
}
